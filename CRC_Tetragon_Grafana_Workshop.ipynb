{
 "cells": [
  {
   "cell_type": "markdown",
   "id": "6bfdcc04",
   "metadata": {},
   "source": [
    "# CRC + Tetragon (Isovalent) + Integrated Grafana — Hands-on"
   ]
  },
  {
   "cell_type": "markdown",
   "id": "3546dac8",
   "metadata": {},
   "source": [
    "> Single namespace (`tetragon-system`). Run as kubeadmin. Grafana+Prometheus integrated in the Tetragon Helm release."
   ]
  },
  {
   "cell_type": "markdown",
   "id": "2d82af2d",
   "metadata": {},
   "source": [
    "## 1) Login & CRC env"
   ]
  },
  {
   "cell_type": "code",
   "execution_count": null,
   "id": "4e4898f1",
   "metadata": {},
   "outputs": [],
   "source": [
    "eval $(crc oc-env)\n",
    "oc login -u kubeadmin -p \"$(cat ~/.crc/machines/crc/kubeadmin-password)\" https://api.crc.testing:6443\n",
    "oc whoami"
   ]
  },
  {
   "cell_type": "markdown",
   "id": "628062b1",
   "metadata": {},
   "source": [
    "## 2) Namespace"
   ]
  },
  {
   "cell_type": "code",
   "execution_count": null,
   "id": "e4b014b8",
   "metadata": {},
   "outputs": [],
   "source": [
    "NS=tetragon-system\n",
    "oc new-project $NS || true"
   ]
  },
  {
   "cell_type": "markdown",
   "id": "e16e8cab",
   "metadata": {},
   "source": [
    "## 3) Install Tetragon + integrated Grafana/Prometheus"
   ]
  },
  {
   "cell_type": "code",
   "execution_count": null,
   "id": "418155fb",
   "metadata": {},
   "outputs": [],
   "source": [
    "helm repo add isovalent https://helm.isovalent.com || true\n",
    "helm repo update\n",
    "helm upgrade --install tetragon isovalent/tetragon -n $NS \\\n",
    "  --set tetragon.securityContext.privileged=true \\\n",
    "  --set tetragon.hostNetwork=true \\\n",
    "  --set tetragon.grpc.enabled=true \\\n",
    "  --set tetragon.grpc.address=\"0.0.0.0:54321\" \\\n",
    "  --set tetragon.prometheus.enabled=true \\\n",
    "  --set tetragon.prometheus.port=2112 \\\n",
    "  --set integratedGrafana.enabled=true \\\n",
    "  --set integratedGrafana.prometheus.resources.requests.cpu=200m \\\n",
    "  --set integratedGrafana.prometheus.resources.requests.memory=512Mi \\\n",
    "  --set integratedGrafana.prometheus.resources.limits.memory=1Gi \\\n",
    "  --set grafana.resources.requests.cpu=50m \\\n",
    "  --set grafana.resources.requests.memory=128Mi \\\n",
    "  --set grafana.resources.limits.memory=256Mi \\\n",
    "  --set kubeStateMetrics.resources.requests.cpu=10m \\\n",
    "  --set kubeStateMetrics.resources.requests.memory=32Mi \\\n",
    "  --set kubeStateMetrics.resources.limits.memory=64Mi \\\n",
    "  --set grafana.adminPassword=\"tetragon\" \\\n",
    "  --wait --timeout 1200"
   ]
  },
  {
   "cell_type": "markdown",
   "id": "9219a0dc",
   "metadata": {},
   "source": [
    "## 4) OpenShift SCC + Grafana route"
   ]
  },
  {
   "cell_type": "code",
   "execution_count": null,
   "id": "fa314231",
   "metadata": {},
   "outputs": [],
   "source": [
    "SA=$(oc -n $NS get sa -o jsonpath='{range .items[*]}{.metadata.name}{\"\\n\"}{end}' | grep tetragon | head -n1)\n",
    "oc adm policy add-scc-to-user privileged -z \"$SA\" -n $NS\n",
    "oc -n $NS rollout restart ds/tetragon || true\n",
    "GRAFANA_SVC=$(oc -n $NS get svc -l app.kubernetes.io/name=grafana -o name | head -n1)\n",
    "oc -n $NS expose $GRAFANA_SVC || true\n",
    "oc -n $NS get route -l app.kubernetes.io/name=grafana -o jsonpath='http://{.items[0].spec.host}\\n'"
   ]
  },
  {
   "cell_type": "markdown",
   "id": "178ec85c",
   "metadata": {},
   "source": [
    "## 5) Demo App (official upstream)"
   ]
  },
  {
   "cell_type": "code",
   "execution_count": null,
   "id": "779be7af",
   "metadata": {},
   "outputs": [],
   "source": [
    "oc new-project tetragon-demo || true\n",
    "oc -n tetragon-demo apply -f https://raw.githubusercontent.com/cilium/cilium/1.18.0/examples/minikube/http-sw-app.yaml\n",
    "oc -n tetragon-demo get pods,svc"
   ]
  },
  {
   "cell_type": "markdown",
   "id": "63ada2c5",
   "metadata": {},
   "source": [
    "## 6) Observe"
   ]
  },
  {
   "cell_type": "code",
   "execution_count": null,
   "id": "bcd4706d",
   "metadata": {},
   "outputs": [],
   "source": [
    "oc -n $NS exec ds/tetragon -- tetra getevents --color always | head -n 50"
   ]
  },
  {
   "cell_type": "markdown",
   "id": "d40974bb",
   "metadata": {},
   "source": [
    "## 7) Cleanup"
   ]
  },
  {
   "cell_type": "code",
   "execution_count": null,
   "id": "8cbb7200",
   "metadata": {},
   "outputs": [],
   "source": [
    "oc -n tetragon-demo delete -f https://raw.githubusercontent.com/cilium/cilium/1.18.0/examples/minikube/http-sw-app.yaml --ignore-not-found\n",
    "helm uninstall tetragon -n $NS || true\n",
    "oc delete project tetragon-demo --ignore-not-found\n",
    "oc delete project $NS --ignore-not-found"
   ]
  }
 ],
 "metadata": {},
 "nbformat": 4,
 "nbformat_minor": 5
}